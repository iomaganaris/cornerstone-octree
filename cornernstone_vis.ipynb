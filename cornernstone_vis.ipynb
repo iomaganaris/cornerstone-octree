{
    "cells": [
  {
   "cell_type": "code",
   "execution_count": 1,
   "metadata": {},
   "outputs": [],
   "source": [
    "import sys\n",
    "import os\n",
    "sys.path.append(\"{}/build\".format(os.getcwd()))"
   ]
  },
  {
   "cell_type": "code",
   "execution_count": 2,
   "metadata": {},
   "outputs": [],
   "source": [
    "from cornerstone import iHilbert, iHilbertMixD, hilbertIBoxKeys, hilbertMixDIBoxKeys, spanSfcRange\n",
    "import random\n",
    "import matplotlib.pyplot as plt\n",
    "\n",
    "bx = 6\n",
    "by = 4\n",
    "bz = 2\n",
    "max_level = 10\n",
    "assert bx <= max_level and by <= max_level and bz <= max_level\n",
    "nparticles = 200"
   ]
  },
  {
   "cell_type": "code",
   "execution_count": 3,
   "metadata": {},
   "outputs": [],
   "source": [
    "def create_random_particles(pow2_x_range, pow2_y_range, pow2_z_range, num_particles):\n",
    "    \"\"\"\n",
    "    Generates a list of random particles within a 3D space.\n",
    "    \n",
    "    Parameters:\n",
    "    - pow2_x_range: The range of the x-axis as a power of 2.\n",
    "    - pow2_y_range: The range of the y-axis as a power of 2.\n",
    "    - pow2_z_range: The range of the z-axis as a power of 2.\n",
    "    - num_particles: The number of particles to generate.\n",
    "    \n",
    "    Returns:\n",
    "    - A list of random particles within the specified 3D space.\n",
    "    \"\"\"\n",
    "    random.seed(42)  # Set the seed to a constant value for reproducibility\n",
    "    particles = []\n",
    "    for _ in range(num_particles):\n",
    "        x = random.randint(0, 2**pow2_x_range - 1)\n",
    "        y = random.randint(0, 2**pow2_y_range - 1)\n",
    "        z = random.randint(0, 2**pow2_z_range - 1)\n",
    "        particles.append((x, y, z))\n",
    "    return particles\n",
    "\n",
    "def plot_particles_3d(particles):\n",
    "    \"\"\"\n",
    "    Plots a list of particles in 3D space using matplotlib.\n",
    "    \n",
    "    Parameters:\n",
    "    - particles: A list of particles to plot.\n",
    "    \"\"\"\n",
    "    # Convert the list of points into separate x, y, z arrays\n",
    "    x_vals, y_vals, z_vals = zip(*particles)\n",
    "    \n",
    "    # Plot the particles\n",
    "    fig = plt.figure(figsize=(10, 8))\n",
    "    ax = fig.add_subplot(111, projection='3d')\n",
    "    max_range = max(max(x_vals) - min(x_vals), max(y_vals) - min(y_vals), max(z_vals) - min(z_vals))\n",
    "    mid_x = (max(x_vals) + min(x_vals)) / 2\n",
    "    mid_y = (max(y_vals) + min(y_vals)) / 2\n",
    "    mid_z = (max(z_vals) + min(z_vals)) / 2\n",
    "\n",
    "    ax.set_xlim(mid_x - max_range / 2, mid_x + max_range / 2)\n",
    "    ax.set_ylim(mid_y - max_range / 2, mid_y + max_range / 2)\n",
    "    ax.set_zlim(mid_z - max_range / 2, mid_z + max_range / 2)\n",
    "    ax.scatter(x_vals, y_vals, z_vals, color='r')\n",
    "    ax.set_title('Random Particles in 3D Space')\n",
    "    ax.set_xlabel('X')\n",
    "    ax.set_ylabel('Y')\n",
    "    ax.set_zlabel('Z')\n",
    "    plt.show()"
   ]
  },
  {
   "cell_type": "code",
   "execution_count": null,
   "metadata": {},
   "outputs": [],
   "source": [
    "particles = create_random_particles(pow2_x_range=bx, pow2_y_range=by, pow2_z_range=bz, num_particles=nparticles)\n",
    "plot_particles_3d(particles)"
   ]
  },
  {
   "cell_type": "code",
   "execution_count": 5,
   "metadata": {},
   "outputs": [],
   "source": [
    "def sort_particles_by_distance(particles, origin=(0, 0, 0)):\n",
    "    \"\"\"\n",
    "    Sorts a list of particles based on their distance from a given origin.\n",
    "    \n",
    "    Parameters:\n",
    "    - particles: A list of particles to sort.\n",
    "    - origin: The origin point to calculate distances from (default is (0, 0, 0)).\n",
    "    \n",
    "    Returns:\n",
    "    - A list of particles sorted by their distance from the origin.\n",
    "    \"\"\"\n",
    "    return sorted(particles, key=lambda p: ((p[0] - origin[0])**2 + (p[1] - origin[1])**2 + (p[2] - origin[2])**2)**0.5)\n",
    "\n",
    "sorted_particles = sort_particles_by_distance(particles)\n"
   ]
  },
  {
   "cell_type": "code",
   "execution_count": null,
   "metadata": {},
   "outputs": [],
   "source": [
    "pa = sorted_particles[5]\n",
    "pb = sorted_particles[-1]\n",
    "\n",
    "print(pa, pb)"
   ]
  },
  {
   "cell_type": "code",
   "execution_count": null,
   "metadata": {},
   "outputs": [],
   "source": [
    "pa_iHilbert_key = iHilbert(pa[0], pa[1], pa[2], max_level)\n",
    "pb_iHIlbert_key = iHilbert(pb[0], pb[1], pb[2], max_level)\n",
    "\n",
    "print(\"Particle A iHilbert key: {}\\toct: {}\\tbin: {}\".format(pa_iHilbert_key, oct(pa_iHilbert_key), bin(pa_iHilbert_key)))\n",
    "print(\"Partic;e B iHilbert key: {}\\toct: {}\\tbin: {}\".format(pb_iHIlbert_key, oct(pb_iHIlbert_key), bin(pb_iHIlbert_key)))\n",
    "\n",
    "num_values, span_sfc = spanSfcRange(pa_iHilbert_key, pb_iHIlbert_key)\n",
    "\n",
    "print(\"Number of values between A and B:\", num_values)\n",
    "print(\"Octal values of span_sfc:\")\n",
    "print(\"\\n\".join([oct(key) for key in span_sfc]))"
   ]
  },
  {
   "cell_type": "code",
   "execution_count": null,
   "metadata": {},
   "outputs": [],
   "source": [
    "pa_iHilbertMixD_key = iHilbertMixD(pa[0], pa[1], pa[2], bx, by, bz)\n",
    "pb_iHIlbertMixD_key = iHilbertMixD(pb[0], pb[1], pb[2], bx, by, bz)\n",
    "\n",
    "print(\"Particle A iHilbert key: {}\\toct: {}\\tbin: {}\".format(pa_iHilbertMixD_key, oct(pa_iHilbertMixD_key), bin(pa_iHilbertMixD_key)))\n",
    "print(\"Partic;e B iHilbert key: {}\\toct: {}\\tbin: {}\".format(pb_iHIlbertMixD_key, oct(pb_iHIlbertMixD_key), bin(pb_iHIlbertMixD_key)))\n",
    "\n",
    "num_values_mixd, span_sfc_mixd = spanSfcRange(pa_iHilbertMixD_key, pb_iHIlbertMixD_key)\n",
    "\n",
    "print(\"Number of values between A and B:\", num_values_mixd)\n",
    "print(\"Octal values of span_sfc:\")\n",
    "print(\"\\n\".join([oct(key) for key in span_sfc_mixd]))"
   ]
  }
 ],
 "metadata": {
  "kernelspec": {
   "display_name": "venv_cornerstone",
   "language": "python",
   "name": "python3"
  },
  "language_info": {
   "codemirror_mode": {
    "name": "ipython",
    "version": 3
   },
   "file_extension": ".py",
   "mimetype": "text/x-python",
   "name": "python",
   "nbconvert_exporter": "python",
   "pygments_lexer": "ipython3",
   "version": "3.12.6"
  }
 },
 "nbformat": 4,
 "nbformat_minor": 2
}
